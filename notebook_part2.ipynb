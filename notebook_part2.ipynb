{
 "metadata": {
  "language_info": {
   "codemirror_mode": {
    "name": "ipython",
    "version": 3
   },
   "file_extension": ".py",
   "mimetype": "text/x-python",
   "name": "python",
   "nbconvert_exporter": "python",
   "pygments_lexer": "ipython3",
   "version": "3.9.1"
  },
  "orig_nbformat": 2,
  "kernelspec": {
   "name": "python3",
   "display_name": "Python 3.9.1 64-bit"
  },
  "metadata": {
   "interpreter": {
    "hash": "73254cef8d7e73f515039abe4cdd5d63e0b812c908a71f442adc9d4c86b26ff5"
   }
  },
  "interpreter": {
   "hash": "73254cef8d7e73f515039abe4cdd5d63e0b812c908a71f442adc9d4c86b26ff5"
  }
 },
 "nbformat": 4,
 "nbformat_minor": 2,
 "cells": [
  {
   "source": [
    "# PART 2 NOTEBOOK"
   ],
   "cell_type": "markdown",
   "metadata": {}
  },
  {
   "source": [
    "## Importing Part2"
   ],
   "cell_type": "markdown",
   "metadata": {}
  },
  {
   "cell_type": "code",
   "execution_count": 1,
   "metadata": {},
   "outputs": [],
   "source": [
    "import Part2 as part2"
   ]
  },
  {
   "source": [
    "### importing necessary modules"
   ],
   "cell_type": "markdown",
   "metadata": {}
  },
  {
   "source": [
    "from functools import reduce\n",
    "import random\n",
    "import string\n",
    "import math\n",
    "from functools import partial"
   ],
   "cell_type": "code",
   "metadata": {},
   "execution_count": 2,
   "outputs": []
  },
  {
   "source": [
    "### 1. Write a function using only list filter lambda that can tell whether a number is a Fibonacci number or not. You can use a pre-calculated list/dict to store fab numbers till 10000 PTS:50"
   ],
   "cell_type": "markdown",
   "metadata": {}
  },
  {
   "cell_type": "code",
   "execution_count": 3,
   "metadata": {},
   "outputs": [
    {
     "output_type": "execute_result",
     "data": {
      "text/plain": [
       "True"
      ]
     },
     "metadata": {},
     "execution_count": 3
    }
   ],
   "source": [
    "part2.is_fibonacci(317811)"
   ]
  },
  {
   "source": [
    "### 2. Using list comprehension (and zip/lambda/etc if required) write expressions that: PTS: 100\n"
   ],
   "cell_type": "markdown",
   "metadata": {}
  },
  {
   "source": [
    "#### a. add 2 iterables a and b such that a is even and b is odd"
   ],
   "cell_type": "markdown",
   "metadata": {}
  },
  {
   "cell_type": "code",
   "execution_count": 4,
   "metadata": {},
   "outputs": [
    {
     "output_type": "stream",
     "name": "stdout",
     "text": [
      "[85, 55, 25, 73, 28, 59, 8, 53, 50, 42]\n[53, 99, 64, 79, 67, 65, 51, 2, 48, 45]\n[89, 95, 59, 55, 87]\n"
     ]
    }
   ],
   "source": [
    "a = random.sample(range(1, 100), 10)\n",
    "b = random.sample(range(1, 100), 10)\n",
    "\n",
    "result = [i+j for i,j in zip(a,b) if (i+j)%2==1]   \n",
    "\n",
    "print(a)\n",
    "print(b)\n",
    "print(result)\n"
   ]
  },
  {
   "source": [
    "#### b. strips every vowel from a string provided (tsai>>t s)"
   ],
   "cell_type": "markdown",
   "metadata": {}
  },
  {
   "cell_type": "code",
   "execution_count": 5,
   "metadata": {},
   "outputs": [
    {
     "output_type": "stream",
     "name": "stdout",
     "text": [
      "wvodtMNLbOsKYgwhWgnC\noO\n"
     ]
    }
   ],
   "source": [
    "word = ''.join(random.choices(string.ascii_letters, k = 20))\n",
    "\n",
    "out_str = \"\".join([l for l in word if l.lower() in \"aeiou\"])\n",
    "\n",
    "print(word)\n",
    "print(out_str)"
   ]
  },
  {
   "source": [
    "#### c. acts like a sigmoid function for a 1D array"
   ],
   "cell_type": "markdown",
   "metadata": {}
  },
  {
   "cell_type": "code",
   "execution_count": 6,
   "metadata": {},
   "outputs": [
    {
     "output_type": "stream",
     "name": "stdout",
     "text": [
      "[-1.2133342707730437, 5.142176171097859, 4.692064350821415, -5.6188747560112375, 4.848456020077654, -1.953595722761464, -5.103710445304092, 2.005608396950606, 1.8510445639754476, -2.626365054353309]\n[0.2291116219260129, 0.994189008751135, 0.990915542778116, 0.0036156019956177414, 0.9922205210576561, 0.12416181024018019, 0.006037494090794239, 0.8813846672503247, 0.8642497001234123, 0.0674607651084555]\n"
     ]
    }
   ],
   "source": [
    "lst = [random.uniform(-6, 6) for i in range(10)]\n",
    "\n",
    "sigmoid = lambda x: 1/(1+math.exp(-x))\n",
    "\n",
    "sig_lst_lc = [sigmoid(x) for x in lst]\n",
    "\n",
    "print(lst)\n",
    "print(sig_lst_lc)"
   ]
  },
  {
   "source": [
    "#### d. takes a small character string and shifts all characters by 5 (handle boundary conditions) tsai>>yxfn"
   ],
   "cell_type": "markdown",
   "metadata": {}
  },
  {
   "cell_type": "code",
   "execution_count": 7,
   "metadata": {},
   "outputs": [
    {
     "output_type": "execute_result",
     "data": {
      "text/plain": [
       "('tALkA', 'yFQpF')"
      ]
     },
     "metadata": {},
     "execution_count": 7
    }
   ],
   "source": [
    "lower = string.ascii_lowercase\n",
    "upper = string.ascii_uppercase\n",
    "\n",
    "char_str = ''.join(random.choices(string.ascii_letters, k = 5))\n",
    "\n",
    "shift_str = ''.join([ lower[(lower.index(i) + 5)%len(lower)] if i.islower() else upper[(upper.index(i) + 5)%len(upper)] for i in char_str ])\n",
    "\n",
    "char_str, shift_str"
   ]
  },
  {
   "source": [
    "### 3. A list comprehension expression that takes a ~200-word paragraph, and checks whether it has any of the swear words mentioned in [https://github.com/RobertJGabriel/Google-profanity-words/blob/master/list.txt](https://github.com/RobertJGabriel/Google-profanity-words/blob/master/list.txt) PTS:100"
   ],
   "cell_type": "markdown",
   "metadata": {}
  },
  {
   "cell_type": "code",
   "execution_count": 8,
   "metadata": {},
   "outputs": [
    {
     "output_type": "execute_result",
     "data": {
      "text/plain": [
       "True"
      ]
     },
     "metadata": {},
     "execution_count": 8
    }
   ],
   "source": [
    "with open('toxic_comment.txt') as f:\n",
    "    paragraph = f.read().lower()\n",
    "with open(\"list.txt\") as f:\n",
    "    swear_words = f.read().splitlines()\n",
    "\n",
    "is_toxic_statement = any([True for word in swear_words if word in paragraph])\n",
    "\n",
    "is_toxic_statement"
   ]
  },
  {
   "source": [
    "### 4. Using reduce function: PTS:100"
   ],
   "cell_type": "markdown",
   "metadata": {}
  },
  {
   "source": [
    "#### a. add only even numbers in a list"
   ],
   "cell_type": "markdown",
   "metadata": {}
  },
  {
   "cell_type": "code",
   "execution_count": 9,
   "metadata": {},
   "outputs": [
    {
     "output_type": "execute_result",
     "data": {
      "text/plain": [
       "([14, -93, 95, 80, 53, -65, 83, 52, -93, -54], 92, 92)"
      ]
     },
     "metadata": {},
     "execution_count": 9
    }
   ],
   "source": [
    "lst = [random.randint(-100, 100) for i in range(10)]\n",
    "\n",
    "sum_red_fil = reduce(lambda a, b: a+b, filter(lambda a: a%2==0, lst)) # using filter\n",
    "\n",
    "sum_red = reduce(lambda a, b: a+b if b%2==0 else a, lst, 0) # without using filter, using initializer\n",
    "\n",
    "lst, sum_red_fil, sum_red"
   ]
  },
  {
   "source": [
    "#### b. find the biggest character in a string (printable ASCII characters)"
   ],
   "cell_type": "markdown",
   "metadata": {}
  },
  {
   "cell_type": "code",
   "execution_count": 10,
   "metadata": {},
   "outputs": [
    {
     "output_type": "execute_result",
     "data": {
      "text/plain": [
       "(';@.o-', 'o')"
      ]
     },
     "metadata": {},
     "execution_count": 10
    }
   ],
   "source": [
    "char_str = ''.join(random.choices(string.printable, k = 5))\n",
    "\n",
    "max_char = reduce(lambda a, b: a if ord(a)>ord(b) else b, char_str)\n",
    "\n",
    "char_str, max_char"
   ]
  },
  {
   "source": [
    "#### c. adds every 3rd number in a list"
   ],
   "cell_type": "markdown",
   "metadata": {}
  },
  {
   "cell_type": "code",
   "execution_count": 11,
   "metadata": {},
   "outputs": [
    {
     "output_type": "execute_result",
     "data": {
      "text/plain": [
       "([-26, 35, -86, -65, 35, 98, 59, -76, 5, 8], 17)"
      ]
     },
     "metadata": {},
     "execution_count": 11
    }
   ],
   "source": [
    "lst = [random.randint(-100, 100) for i in range(10)]\n",
    "\n",
    "sum_3rd = reduce(lambda a,b: a+b, list(zip(*filter(lambda a: a[0]%3==2, enumerate(lst))))[1])\n",
    "\n",
    "lst, sum_3rd"
   ]
  },
  {
   "source": [
    "### 5. Using randint, random.choice and list comprehensions, write an expression that generates 15 random KADDAADDDD number plates, where KA is fixed, D stands for a digit, and A stands for Capital alphabets. 10<<DD<<99 & 1000<<DDDD<<9999 PTS:100"
   ],
   "cell_type": "markdown",
   "metadata": {}
  },
  {
   "cell_type": "code",
   "execution_count": 12,
   "metadata": {},
   "outputs": [
    {
     "output_type": "execute_result",
     "data": {
      "text/plain": [
       "['KA43SI2010',\n",
       " 'KA12MM4613',\n",
       " 'KA14FT8859',\n",
       " 'KA54XI5134',\n",
       " 'KA97FG5851',\n",
       " 'KA68XN1169',\n",
       " 'KA73AW9796',\n",
       " 'KA81WW7409',\n",
       " 'KA21NE3324',\n",
       " 'KA58DD2127']"
      ]
     },
     "metadata": {},
     "execution_count": 12
    }
   ],
   "source": [
    "random_plate = lambda : \"KA\" + str(random.randint(10, 99)) + str(random.choice(string.ascii_uppercase)) + str(random.choice(string.ascii_uppercase)) + str(random.randint(1000, 9999))\n",
    "\n",
    "plates = [random_plate() for i in range(10)]\n",
    "\n",
    "plates"
   ]
  },
  {
   "source": [
    "### 6. Write the above again from scratch where KA can be changed to DL, and 1000/9999 ranges can be provided. Now use a partial function such that 1000/9999 are hardcoded, but KA can be provided PTS:50"
   ],
   "cell_type": "markdown",
   "metadata": {}
  },
  {
   "cell_type": "code",
   "execution_count": 13,
   "metadata": {},
   "outputs": [
    {
     "output_type": "execute_result",
     "data": {
      "text/plain": [
       "(['DL97QF5493',\n",
       "  'DL51YU2849',\n",
       "  'DL64ND2045',\n",
       "  'DL79UK1630',\n",
       "  'DL42RW1017',\n",
       "  'DL94XC3457',\n",
       "  'DL13TI3414',\n",
       "  'DL10LS8803',\n",
       "  'DL25DU2360',\n",
       "  'DL50SM4534'],\n",
       " ['KA18LN5627',\n",
       "  'KA57FX2914',\n",
       "  'KA49JM1787',\n",
       "  'KA97EY2555',\n",
       "  'KA36YF7638',\n",
       "  'KA50VE8228',\n",
       "  'KA28LQ8169',\n",
       "  'KA77SA3847',\n",
       "  'KA30SD3872',\n",
       "  'KA79MT6377'])"
      ]
     },
     "metadata": {},
     "execution_count": 13
    }
   ],
   "source": [
    "random_plate = lambda state, r1, r2: state + str(random.randint(10, 99)) + str(random.choice(string.ascii_uppercase)) + str(random.choice(string.ascii_uppercase)) + str(random.randint(r1, r2))\n",
    "\n",
    "random_plates_fixed_range = partial(random_plate, r1 = 1000, r2 = 9999)\n",
    "\n",
    "plates = [random_plate(\"DL\", 1000, 9999) for i in range(10)]\n",
    "\n",
    "plates_fixed_range = [random_plates_fixed_range(\"KA\") for i in range(10)]\n",
    "\n",
    "plates, plates_fixed_range"
   ]
  }
 ]
}