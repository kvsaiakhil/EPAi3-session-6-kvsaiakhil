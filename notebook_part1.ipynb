{
 "metadata": {
  "language_info": {
   "codemirror_mode": {
    "name": "ipython",
    "version": 3
   },
   "file_extension": ".py",
   "mimetype": "text/x-python",
   "name": "python",
   "nbconvert_exporter": "python",
   "pygments_lexer": "ipython3",
   "version": "3.9.1"
  },
  "orig_nbformat": 2,
  "kernelspec": {
   "name": "python3",
   "display_name": "Python 3.9.1 64-bit"
  },
  "metadata": {
   "interpreter": {
    "hash": "73254cef8d7e73f515039abe4cdd5d63e0b812c908a71f442adc9d4c86b26ff5"
   }
  },
  "interpreter": {
   "hash": "73254cef8d7e73f515039abe4cdd5d63e0b812c908a71f442adc9d4c86b26ff5"
  }
 },
 "nbformat": 4,
 "nbformat_minor": 2,
 "cells": [
  {
   "source": [
    "# PART 1 NOTEBOOK"
   ],
   "cell_type": "markdown",
   "metadata": {}
  },
  {
   "source": [
    "## Importing Part1"
   ],
   "cell_type": "markdown",
   "metadata": {}
  },
  {
   "source": [
    "import Part1 as part1"
   ],
   "cell_type": "code",
   "metadata": {},
   "execution_count": 1,
   "outputs": []
  },
  {
   "source": [
    "### 1. Write a single expression that includes lambda, zip, and map functions to select create 52 cards in a deck - 50 pts"
   ],
   "cell_type": "markdown",
   "metadata": {}
  },
  {
   "cell_type": "code",
   "execution_count": 2,
   "metadata": {},
   "outputs": [
    {
     "output_type": "execute_result",
     "data": {
      "text/plain": [
       "[[('2', 'clubs'),\n",
       "  ('3', 'clubs'),\n",
       "  ('4', 'clubs'),\n",
       "  ('5', 'clubs'),\n",
       "  ('6', 'clubs'),\n",
       "  ('7', 'clubs'),\n",
       "  ('8', 'clubs'),\n",
       "  ('9', 'clubs'),\n",
       "  ('10', 'clubs'),\n",
       "  ('jack', 'clubs'),\n",
       "  ('queen', 'clubs'),\n",
       "  ('king', 'clubs'),\n",
       "  ('ace', 'clubs'),\n",
       "  ('2', 'diamonds'),\n",
       "  ('3', 'diamonds'),\n",
       "  ('4', 'diamonds'),\n",
       "  ('5', 'diamonds'),\n",
       "  ('6', 'diamonds'),\n",
       "  ('7', 'diamonds'),\n",
       "  ('8', 'diamonds'),\n",
       "  ('9', 'diamonds'),\n",
       "  ('10', 'diamonds'),\n",
       "  ('jack', 'diamonds'),\n",
       "  ('queen', 'diamonds'),\n",
       "  ('king', 'diamonds'),\n",
       "  ('ace', 'diamonds'),\n",
       "  ('2', 'hearts'),\n",
       "  ('3', 'hearts'),\n",
       "  ('4', 'hearts'),\n",
       "  ('5', 'hearts'),\n",
       "  ('6', 'hearts'),\n",
       "  ('7', 'hearts'),\n",
       "  ('8', 'hearts'),\n",
       "  ('9', 'hearts'),\n",
       "  ('10', 'hearts'),\n",
       "  ('jack', 'hearts'),\n",
       "  ('queen', 'hearts'),\n",
       "  ('king', 'hearts'),\n",
       "  ('ace', 'hearts'),\n",
       "  ('2', 'spades'),\n",
       "  ('3', 'spades'),\n",
       "  ('4', 'spades'),\n",
       "  ('5', 'spades'),\n",
       "  ('6', 'spades'),\n",
       "  ('7', 'spades'),\n",
       "  ('8', 'spades'),\n",
       "  ('9', 'spades'),\n",
       "  ('10', 'spades'),\n",
       "  ('jack', 'spades'),\n",
       "  ('queen', 'spades'),\n",
       "  ('king', 'spades'),\n",
       "  ('ace', 'spades')]]"
      ]
     },
     "metadata": {},
     "execution_count": 2
    }
   ],
   "source": [
    "suits = part1.suits\n",
    "vals = part1.vals\n",
    "\n",
    "cards = list(map(lambda suits_lst, vals_lst: list(zip(vals_lst*len(suits_lst), sorted(suits_lst*len(vals_lst)))), [suits], [vals]))\n",
    "\n",
    "cards"
   ]
  },
  {
   "source": [
    "### 2. Write a normal function without using lambda, zip, and map function to create 52 cards in a deck - 50 pts"
   ],
   "cell_type": "markdown",
   "metadata": {}
  },
  {
   "cell_type": "code",
   "execution_count": 3,
   "metadata": {},
   "outputs": [
    {
     "output_type": "execute_result",
     "data": {
      "text/plain": [
       "[('2', 'clubs'),\n",
       " ('3', 'clubs'),\n",
       " ('4', 'clubs'),\n",
       " ('5', 'clubs'),\n",
       " ('6', 'clubs'),\n",
       " ('7', 'clubs'),\n",
       " ('8', 'clubs'),\n",
       " ('9', 'clubs'),\n",
       " ('10', 'clubs'),\n",
       " ('jack', 'clubs'),\n",
       " ('queen', 'clubs'),\n",
       " ('king', 'clubs'),\n",
       " ('ace', 'clubs'),\n",
       " ('2', 'diamonds'),\n",
       " ('3', 'diamonds'),\n",
       " ('4', 'diamonds'),\n",
       " ('5', 'diamonds'),\n",
       " ('6', 'diamonds'),\n",
       " ('7', 'diamonds'),\n",
       " ('8', 'diamonds'),\n",
       " ('9', 'diamonds'),\n",
       " ('10', 'diamonds'),\n",
       " ('jack', 'diamonds'),\n",
       " ('queen', 'diamonds'),\n",
       " ('king', 'diamonds'),\n",
       " ('ace', 'diamonds'),\n",
       " ('2', 'hearts'),\n",
       " ('3', 'hearts'),\n",
       " ('4', 'hearts'),\n",
       " ('5', 'hearts'),\n",
       " ('6', 'hearts'),\n",
       " ('7', 'hearts'),\n",
       " ('8', 'hearts'),\n",
       " ('9', 'hearts'),\n",
       " ('10', 'hearts'),\n",
       " ('jack', 'hearts'),\n",
       " ('queen', 'hearts'),\n",
       " ('king', 'hearts'),\n",
       " ('ace', 'hearts'),\n",
       " ('2', 'spades'),\n",
       " ('3', 'spades'),\n",
       " ('4', 'spades'),\n",
       " ('5', 'spades'),\n",
       " ('6', 'spades'),\n",
       " ('7', 'spades'),\n",
       " ('8', 'spades'),\n",
       " ('9', 'spades'),\n",
       " ('10', 'spades'),\n",
       " ('jack', 'spades'),\n",
       " ('queen', 'spades'),\n",
       " ('king', 'spades'),\n",
       " ('ace', 'spades')]"
      ]
     },
     "metadata": {},
     "execution_count": 3
    }
   ],
   "source": [
    "cards = part1.create_deck(suits, vals)\n",
    "\n",
    "cards"
   ]
  },
  {
   "source": [
    "### 3. Write a function that, when given 2 sets of 3 or 4 or 5 cards (1 game can only have 3 cards with each player or 4 cards or 5 cards per player) (1 deck of cards only), (2 players only), can identify who won the [game of poker](https://i.pinimg.com/474x/6b/1f/f7/6b1ff73716c14139c951241f3c1d7c46.jpg)! - 100 pts"
   ],
   "cell_type": "markdown",
   "metadata": {}
  },
  {
   "cell_type": "code",
   "execution_count": 14,
   "metadata": {},
   "outputs": [
    {
     "output_type": "stream",
     "name": "stdout",
     "text": [
      "NO. OF PLAYER CARDS: 5 | NO. OF COMMUNITY CARDS: 0\n\nPLAYER: 1 - THREE OF A KIND\n[('9', 'spades'), ('9', 'diamonds'), ('ace', 'spades'), ('9', 'clubs'), ('2', 'clubs')]\n+---------+  +---------+  +---------+  +---------+  +---------+\n| 9       |  | 9       |  | A       |  | 9       |  | 2       |\n| ♠       |  | ♦       |  | ♠       |  | ♣       |  | ♣       |\n|         |  |         |  |         |  |         |  |         |\n|       ♠ |  |       ♦ |  |       ♠ |  |       ♣ |  |       ♣ |\n|       9 |  |       9 |  |       A |  |       9 |  |       2 |\n+---------+  +---------+  +---------+  +---------+  +---------+\nPLAYER: 2 - ONE PAIR\n[('7', 'clubs'), ('3', 'hearts'), ('8', 'clubs'), ('6', 'diamonds'), ('8', 'hearts')]\n+---------+  +---------+  +---------+  +---------+  +---------+\n| 7       |  | 3       |  | 8       |  | 6       |  | 8       |\n| ♣       |  | ♥       |  | ♣       |  | ♦       |  | ♥       |\n|         |  |         |  |         |  |         |  |         |\n|       ♣ |  |       ♥ |  |       ♣ |  |       ♦ |  |       ♥ |\n|       7 |  |       3 |  |       8 |  |       6 |  |       8 |\n+---------+  +---------+  +---------+  +---------+  +---------+\n===============================================================\n                         PLAYER 1 WON !!!\n===============================================================\n"
     ]
    },
    {
     "output_type": "execute_result",
     "data": {
      "text/plain": [
       "1"
      ]
     },
     "metadata": {},
     "execution_count": 14
    }
   ],
   "source": [
    "cards = part1.create_deck(suits, vals)\n",
    "\n",
    "player_1, player_2, community = part1.distribute_cards(cards)\n",
    "\n",
    "part1.poker_winner(player_1, player_2, community)"
   ]
  }
 ]
}